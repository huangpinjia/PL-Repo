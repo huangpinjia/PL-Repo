{
 "cells": [
  {
   "cell_type": "code",
   "execution_count": 19,
   "id": "616cb5d0",
   "metadata": {},
   "outputs": [
    {
     "name": "stdout",
     "output_type": "stream",
     "text": [
      "Requirement already satisfied: wordcloud in c:\\users\\pinji\\documents\\anaconda3\\lib\\site-packages (1.9.2)\n",
      "Requirement already satisfied: numpy>=1.6.1 in c:\\users\\pinji\\documents\\anaconda3\\lib\\site-packages (from wordcloud) (1.24.2)\n",
      "Requirement already satisfied: matplotlib in c:\\users\\pinji\\documents\\anaconda3\\lib\\site-packages (from wordcloud) (3.5.2)\n",
      "Requirement already satisfied: pillow in c:\\users\\pinji\\documents\\anaconda3\\lib\\site-packages (from wordcloud) (9.2.0)\n",
      "Requirement already satisfied: kiwisolver>=1.0.1 in c:\\users\\pinji\\documents\\anaconda3\\lib\\site-packages (from matplotlib->wordcloud) (1.4.2)\n",
      "Requirement already satisfied: pyparsing>=2.2.1 in c:\\users\\pinji\\documents\\anaconda3\\lib\\site-packages (from matplotlib->wordcloud) (3.0.9)\n",
      "Requirement already satisfied: packaging>=20.0 in c:\\users\\pinji\\documents\\anaconda3\\lib\\site-packages (from matplotlib->wordcloud) (21.3)\n",
      "Requirement already satisfied: python-dateutil>=2.7 in c:\\users\\pinji\\documents\\anaconda3\\lib\\site-packages (from matplotlib->wordcloud) (2.8.2)\n",
      "Requirement already satisfied: fonttools>=4.22.0 in c:\\users\\pinji\\documents\\anaconda3\\lib\\site-packages (from matplotlib->wordcloud) (4.25.0)\n",
      "Requirement already satisfied: cycler>=0.10 in c:\\users\\pinji\\documents\\anaconda3\\lib\\site-packages (from matplotlib->wordcloud) (0.11.0)\n",
      "Requirement already satisfied: six>=1.5 in c:\\users\\pinji\\documents\\anaconda3\\lib\\site-packages (from python-dateutil>=2.7->matplotlib->wordcloud) (1.16.0)\n",
      "Requirement already satisfied: matplotlib in c:\\users\\pinji\\documents\\anaconda3\\lib\\site-packages (3.5.2)\n",
      "Requirement already satisfied: python-dateutil>=2.7 in c:\\users\\pinji\\documents\\anaconda3\\lib\\site-packages (from matplotlib) (2.8.2)\n",
      "Requirement already satisfied: fonttools>=4.22.0 in c:\\users\\pinji\\documents\\anaconda3\\lib\\site-packages (from matplotlib) (4.25.0)\n",
      "Requirement already satisfied: numpy>=1.17 in c:\\users\\pinji\\documents\\anaconda3\\lib\\site-packages (from matplotlib) (1.24.2)\n",
      "Requirement already satisfied: pyparsing>=2.2.1 in c:\\users\\pinji\\documents\\anaconda3\\lib\\site-packages (from matplotlib) (3.0.9)\n",
      "Requirement already satisfied: packaging>=20.0 in c:\\users\\pinji\\documents\\anaconda3\\lib\\site-packages (from matplotlib) (21.3)\n",
      "Requirement already satisfied: pillow>=6.2.0 in c:\\users\\pinji\\documents\\anaconda3\\lib\\site-packages (from matplotlib) (9.2.0)\n",
      "Requirement already satisfied: cycler>=0.10 in c:\\users\\pinji\\documents\\anaconda3\\lib\\site-packages (from matplotlib) (0.11.0)\n",
      "Requirement already satisfied: kiwisolver>=1.0.1 in c:\\users\\pinji\\documents\\anaconda3\\lib\\site-packages (from matplotlib) (1.4.2)\n",
      "Requirement already satisfied: six>=1.5 in c:\\users\\pinji\\documents\\anaconda3\\lib\\site-packages (from python-dateutil>=2.7->matplotlib) (1.16.0)\n"
     ]
    }
   ],
   "source": [
    "!pip install wordcloud\n",
    "!pip install matplotlib"
   ]
  },
  {
   "cell_type": "code",
   "execution_count": 27,
   "id": "c672f9d7",
   "metadata": {},
   "outputs": [
    {
     "name": "stdout",
     "output_type": "stream",
     "text": [
      "以哈戰爭／戰火延燒影響經濟 專家憂衝突升級引發全球震盪 ｜ 公視新聞網 PNN 此網頁已閒置超過分鐘，請點透明黑底或右上×按鈕繼續閱讀 大選／民眾黨不分區立委名單出爐 黃珊珊、黃國昌排第、位 大選／賴清德宣布副手 蕭美琴 ：我回來 美國完成全球首例全眼移植手術 患者視網膜已血液流動 「為突然消失家人」 以色列戰火中寄予希望與力量【圖輯】【公視獨家】 美生醫公司編輯基因降低膽固醇 預計啟動期實驗 H直播 台語新聞 English news Bản tin tiếng Việt โฟกัสไต้หวัน Warta Berita 內容 即時新聞 專題策展 數位敘事 當期節目 深度報導 觀點 分類 政治 生活 全球 地方 兩岸 文教科技 產經 社福人權 環境 社會 關於我們 更正啟事 最新消息 服務條款 藍白合 以哈戰爭 即時 熱議 影音 策展 數位敘事 深度報導 觀點 副刊 節目 國際記者 首頁 全球 以哈戰爭 以哈戰爭／戰火延燒影響經濟 專家憂衝突升級引發全球震盪 梁雁／編譯 發布時間：-- : 更新時間：-- : 以色列 副教授 加薩 加薩地區 ... 法國巴黎 經濟 衝突 以色列哈瑪斯戰爭導致中東局勢不穩，對比以色列倚靠高科技支撐國家經濟，本就貧困加薩地區，經濟雪上加霜。此外，近期國際油價持續波動，專家擔憂，若加薩戰火升級為中東區域衝突，將引發全球經濟震盪。 城市各處冒起黑煙，轟炸聲絲毫沒停下，以色列巴勒斯坦極端組織哈瑪斯衝突持續延燒，地中海東岸局勢動盪，加薩地區數百萬民眾流離失，導致當地原本就貧困經濟處境雪上加霜。法國巴黎政治學院副教授斯奈傑表示，「加薩一個被圍困區域，主要經濟動力來自援助，來自許多單位外來援助，而近幾最重要援助者卡達，另外就一項則匯款，也就少數被許可進入以色列工作勞工，所賺來薪資。」哈瑪斯控制加薩走廊，以色列開始嚴格管制巴勒斯坦人進出當地，僅約萬千名勞工獲得以色列工作許可證，每天可為加薩地區賺進萬美元現金。但這個衝突爆發後，他們被迫離開以色列。加薩勞工巴拉塔於指出，「如果不離開以色列，猶太人就會來打你，你會被凌辱，他們會拿走你電話，些工人已經受傷，最艱難你家人還衝突區，而你待這裡無法得知他們生死。」以色列情況卻呈現強烈對比，儘管近來國內失業率高且通膨嚴重，整體經濟仍受到高科技出口導向產業支撐。英國《金融時報》指出，以色列當前債務國民產出比率維持%，央行則持千億美元外匯存底，讓國家還餘力打這場仗。法蘭西主持人提及，「以色列銀行估計這場戰事，外加以色列全面動員後備軍人，國家今將損失.%GDP，你認為以色列加薩地面作戰能撐多久？」法國巴黎政治學院副教授斯奈傑表示，「簡單回應你問題，地面作戰可以撐很久，因為以色列經濟復原力很強，經濟命脈包括高價值產業。」儘管戰事造成以色列國內商業活動停擺，本週卻陸續傳出科技業復工，當地專家預期經濟回穩指可待。而目前外界更擔心，區域衝突可能引發全球經濟震盪。德國巴德爾銀行分析師哈爾弗指出，「第一個問題中東衝突，中東可說火藥庫，我們擔心引發更大規模戰火，再來就油價，最極端危急情況，伊朗可能關閉荷莫茲海峽，如此當然會造成油價大漲。」自衝突發生後，國際油價連續上漲。彭博社報導，以色列對哈瑪斯轟炸，引發周邊國家出現大規模示威，一旦加薩戰事擴大為中東區域衝突，油價將可能從目前大約每桶美元，上漲到每桶美元。但也專家表示，基於經濟利益考量，產油國會謹慎應對區域衝突，近期油價漲跌則要看全球市場供需變化。法國巴黎政治學院副教授斯奈傑說道，「OPEC已採取行動，藉由減產來控制供給，主要由沙烏地阿拉伯俄羅斯所帶頭，要維持相對較高油價；相反地，其他成員國則因為經濟不景氣，而渴望囤現金，他們持續增加石油產量，其中就包括伊朗。‵」專家強調，影響石油價格因素極為複雜，當前因預期心理產生價格波動，正常現象，全球更該專注交戰雙方能否盡快停火，因為受苦衝突區老百姓，不僅當地經濟損傷復原不易，戰爭帶來傷痛也難以抹滅。 黃瑀喬/編輯 以色列 副教授 加薩 加薩地區 ... 法國巴黎 經濟 衝突 相關議題 以哈戰爭 以哈戰爭／傳雙方達成停戰協議 釋放人質談判獲重大進展 -- :: 人質 · 以哈戰爭 · 以色列 · 協議 · 哈瑪斯 · 國家安全 · 西法醫院 更多... 以哈戰爭／停火協議快達成 停火天並釋大批人質 -- :: 人質 · 以哈戰爭 · 以色列 · 停火 · 停火協議 · 協議 · 哈瑪斯 更多... 以哈戰爭／達暫休戰天協議 哈瑪斯釋人質換囚 -- :: Joe Biden · 以哈戰爭 · 以色列 · 協議 · 哈瑪斯 · 納坦雅胡 更多... 以哈戰爭／加薩最大醫院陷交戰火網 醫護躲子彈邊救人人殉職 -- :: 加薩地區 · 加薩走廊 · 哈瑪斯 · 西法醫院 · 醫療物資 · 醫院 · 麻醉 更多... 以哈戰爭／戰火激發保衛決心 巴國輕世代投入抵抗運動 -- :: 以哈戰爭 · 以色列 · 伊斯蘭 · 巴勒斯坦 · 約旦河西岸 · 組織 更多... 以哈戰爭／以公布西法醫院地道 稱哈瑪斯關押人質 -- :: 人質 · 以哈戰爭 · 以色列 · 哈瑪斯 · 西法醫院 以哈戰爭／早產兒撤離西法醫院 逾患者仍困院內 -- :: 世界衛生組織 · 以色列國防軍 · 早產兒 · 西法醫院 · 院內 以哈戰爭／以空襲南加薩漢尤尼斯 納坦雅胡稱遵守戰爭法 -- :: 以哈戰爭 · 以色列 · 以軍 · 哈瑪斯 · 納坦雅胡 · 西法醫院 · 軍隊 更多... 以哈戰爭／以進軍西法醫院 稱於地道附近發現人質遺體 -- :: 以哈戰爭 · 以色列 · 以軍 · 哈瑪斯 · 地道 · 西法醫院 更多... 以哈戰爭／安理會首通過延長人道暫停 卡達協調釋人質換天停火 -- :: 人道 · 以色列 · 加薩 · 加薩走廊 · 哈瑪斯 · 安理會 · 暫停 · 聯合國安理會 · 西法醫院 更多... 以哈戰爭／以國戰車入西法醫院 未繳獲大量武器 -- :: 以哈戰爭 · 以色列 · 哈瑪斯 · 指揮中心 · 武器 · 西法醫院 更多... 以哈戰爭／加薩雨季醫院遺體無法下葬 恐引發公衛危機 -- :: 以哈戰爭 · 以色列 · 加薩 · 法醫 · 醫院 · Sabrina 更多... 以哈戰爭／以控兒童醫院地下放武器 哈瑪斯斥造假稱戰鬥正要開始 -- :: 以哈戰爭 · 哈瑪斯 · 醫院 · 院內 以哈戰爭／以軍續包圍 哈瑪斯稱將以人質換天全面停火 -- :: Joe Biden · 以哈戰爭 · 以色列 · 哈瑪斯 · 新生兒 · 聯合國 · 醫院 更多... 以哈戰爭／加薩最大醫院燃料罄停擺 早產兒、重症亡 -- :: 以哈戰爭 · 以色列 · 加護病房 · 早產兒 · 納坦雅胡 · 蘇利文 更多... 以哈戰爭／加薩最大醫院停轉 以稱試圖供燃料哈瑪斯拒收 -- :: 以哈戰爭 · 以色列國防軍 · 以軍 · 哈瑪斯 · 醫院 以哈戰爭／以爆發最大反戰示威 總理堅持必須統治加薩 -- :: 人質 · 以哈戰爭 · 以色列 · 加薩 · 加薩地區 · 納坦雅胡 更多... 以哈戰爭／以軍持續轟炸加薩 UN：每分鐘名兒童喪生 -- :: 以哈戰爭 · 以軍 · 加薩 · 哈瑪斯 · 醫院 以哈戰爭／白宮稱加薩將每停火小時 以色列、哈瑪斯未證實 -- :: Joe Biden · 以哈戰爭 · 以色列 · 停火 · 哈瑪斯 · 軍事行動 更多... 以哈戰爭／萬加薩市民需小時內南撤 聯合國譴責以哈皆犯戰爭罪 -- :: 以哈戰爭 · 加薩地區 · 加薩市 · 戰爭罪 · 納坦雅胡 · 聯合國 更多... 以哈戰爭／加薩北部最大難民營遭度空襲 以稱炸毀哈瑪斯地道網絡 -- :: 以哈戰爭 · 以色列 · 哈瑪斯 · 難民營 · 地道 以哈戰爭／以軍鎖定哈瑪斯地道 拜登要求人道停火未獲回應 -- :: 人道停火 · 以色列 · 以軍 · 加薩 · 加薩地區 · 哈瑪斯 · 納坦雅胡 更多... 以哈戰爭／戰火屆滿未見止息跡象 雙方百姓同受戰火之苦 -- :: 以哈戰爭 · 以色列 · 哈瑪斯 · 孩子 · 戰火 以哈戰爭／以軍攻入加薩市中心 揚言戰後「無限期承擔加薩安全」 -- :: 以哈戰爭 · 以色列 · 以軍 · 加薩 · 納坦雅胡 · 加薩市 更多... 以哈戰爭／美盼暫時人道停火 以色列：先釋放人質再談 -- :: 人質 · 人道停火 · 以哈戰爭 · 以色列 · 哈瑪斯 · 聯合國秘書長 · 釋放 更多... 以哈戰爭／加薩孩童因轟炸截肢 黎巴嫩姊妹上學遭波及喪命 -- :: 以哈戰爭 · 加薩 · 姊妹 · 孩童 · 恐怖份子 · 截肢 · 黎巴嫩 更多... 「為突然消失家人」 以色列戰火中寄予希望與力量【圖輯】【公視獨家】 -- :: 人質 · 以哈衝突 · 以色列 · 特拉維夫 · 裝置藝術 「我們只剩淚水與堅強」 加薩記者看見烽火歲【圖輯】【公視獨家】 -- :: 以色列國防軍 · 加薩 · 加薩走廊 · 攝影 · 以色列國防軍 · 加薩 · 加薩走廊 · 攝影 更多... 以哈戰爭／加薩最大醫院遭炸 拜登再提人道停火卻無共識 -- :: Joe Biden · 人道停火 · 以哈戰爭 · 哈瑪斯 · 太陽能板 · 巴勒斯坦 更多... 以哈戰爭／以色列持續攻擊加薩 國防軍稱已將加薩「一分為二」 -- :: 人道走廊 · 以哈戰爭 · 以色列 · 以色列國防軍 · 加薩 · 加薩地區 更多... 美國務卿布林肯突訪巴格達 會伊拉克總理談區域美軍安全 -- :: 以色列 · 伊拉克 · 巴勒斯坦 · 巴格達 · 布林肯 · 以色列 · 伊拉克 · 巴勒斯坦 · 巴格達 · 布林肯 更多... 以哈戰爭／中東各國勸停火 美反對：憂哈瑪斯捲土重來 -- :: 以哈戰爭 · 以色列 · 停火 · 哈瑪斯 · 布林肯 · 納坦雅胡 · 以哈戰爭 · 以色列 · 停火 · 哈瑪斯 · 布林肯 · 納坦雅胡 更多... 以哈戰爭／以稱不放人質免談停火 真主黨火箭轟以色列 -- :: 以哈戰爭 · 以色列 · 停火 · 加薩 · 布林肯 · 納坦雅胡 · 以哈戰爭 · 以色列 · 停火 · 加薩 · 布林肯 · 納坦雅胡 更多... 以哈戰爭／真主黨領袖發表談話 警告中東衝突恐擴大 -- :: 以哈戰爭 · 以色列 · 停火 · 哈瑪斯 · 真主黨 · 納坦雅胡 · 美國國務卿 · 黎巴嫩真主黨 · 以哈戰爭 · 以色列 · 停火 · 哈瑪斯 · 真主黨 · 納坦雅胡 · 美國國務卿 · 黎巴嫩真主黨 更多... 以哈戰爭／助台僑撤離以色列 我計劃人道援助巴勒斯坦 -- :: 以色列 · 僑民 · 台人 · 巴勒斯坦 · 以色列 · 僑民 · 台人 · 巴勒斯坦 更多... 以哈戰爭／各界籲人道停火 美盼暫停衝突撤受困民眾 -- :: 人道停火 · 以哈戰爭 · 以色列 · 以色列國防軍 · 加薩地區 · 巴勒斯坦 · 美國眾議院 · 人道停火 · 以哈戰爭 · 以色列 · 以色列國防軍 · 加薩地區 · 巴勒斯坦 · 美國眾議院 更多... 以哈戰爭／中韓立場各異 中國自居調停者主張兩國方案 -- ::  · 中東 · 以色列 · 哈瑪斯 · 國家 · 巴勒斯坦 · 上川陽子 ·  · 上川陽子 · 中東 · 以色列 · 哈瑪斯 · 國家 · 巴勒斯坦 更多... 以哈戰爭／加薩人道危機續升級 各地反猶事件攀升 -- :: 以色列 · 加薩 · 土耳其 · 巴勒斯坦 · 支持 · 猶太 · 猶太人 · 約旦河西岸 · 艾爾多安 · 以色列 · 加薩 · 土耳其 · 巴勒斯坦 · 支持 · 猶太 · 猶太人 · 約旦河西岸 · 艾爾多安 更多... 以哈戰爭／以國稱挺進加薩 加薩衛生當局指至少千死 -- :: 以哈戰爭 · 以色列 · 加薩 · 哈瑪斯 · 武裝分子 · 以哈戰爭 · 以色列 · 加薩 · 哈瑪斯 · 武裝分子 更多... 以哈戰爭／以國社會掀對立 示威者批納坦雅胡無法處理戰爭 -- :: 以哈戰爭 · 以哈衝突 · 以色列 · 示威者 · 納坦雅胡 · 以哈戰爭 · 以哈衝突 · 以色列 · 示威者 · 納坦雅胡 更多... 以哈戰爭／美亞裔大學生嗆殺猶太人被捕 出庭未認罪還押 -- :: 以哈戰爭 · 以哈衝突 · 猶太人 · 聯邦調查局 · 調查局長 · 以哈戰爭 · 以哈衝突 · 猶太人 · 聯邦調查局 · 調查局長 更多... 以哈戰爭／逃離戰火唯一通道 拉法關口為什麼重要？ -- :: 以哈戰爭 · 以色列 · 加薩 · 埃及 · 外籍人士 · 巴勒斯坦 · 西奈半島 · 以哈戰爭 · 以色列 · 加薩 · 埃及 · 外籍人士 · 巴勒斯坦 · 西奈半島 更多... 以哈戰爭／拉法關口首度放行 逾外籍人士與傷患撤離 -- :: 以巴戰爭 · 以色列 · 哈瑪斯 · 埃及 · 外籍人士 · 以巴戰爭 · 以色列 · 哈瑪斯 · 埃及 · 外籍人士 更多... 以哈戰爭／以軍空襲加薩難民營 聯合國呼籲人道停火 -- :: 人道停火 · 以色列 · 以軍 · 兒童 · 加薩 · 哈瑪斯 · 外國人 · 難民營 · 人道停火 · 以色列 · 以軍 · 兒童 · 加薩 · 哈瑪斯 · 外國人 · 難民營 更多... 以哈戰爭／不滿美國聲援以軍 約旦抵制麥當勞等美企 -- :: 以色列 · 可口可樂 · 星巴克 · 約旦 · 青運動 · 麥當勞 · 以色列 · 可口可樂 · 星巴克 · 約旦 · 青運動 · 麥當勞 更多... 以哈戰爭／反對以色列侵略行徑 玻利維亞首宣布與以國斷交 -- :: Freddy · 以巴戰爭 · 以色列 · 玻利維亞 · 示威者 · Freddy · 以巴戰爭 · 以色列 · 玻利維亞 · 示威者 更多... 以哈戰爭／巴國指以空襲難民營釀死 以色列：鎖定哈瑪斯指揮官 -- :: 以色列 · 加薩 · 哈瑪斯 · 指揮官 · 發言人 · 以色列 · 加薩 · 哈瑪斯 · 指揮官 · 發言人 更多... 以哈戰爭／以軍救出遭挾女兵 音樂節被綁德籍女子證實身亡 -- :: 以色列 · 哈瑪斯 · 女兵 · 納坦雅胡 · 音樂節 以哈戰爭／達吉斯坦暴徒闖機場滋事 穆斯林領袖出面譴責 -- :: 以巴戰爭 · 以色列 · 機場 · 穆斯林 · 領袖 以哈戰爭／美再拋兩國方案 外界疑執行不易 -- :: 以巴戰爭 · 以色列 · 以色列國防軍 · 巴勒斯坦 · 方案 相關新聞 以巴衝突再起 以色列空襲加薩至少死傷 -- : 以色列 巴勒斯坦 以巴衝突 伊斯蘭 ... 空襲 加薩 穩定物價過好 中油宣布下週油價不調整 -- : 油價 無鉛汽油 國際油價 中油 以巴加薩開火 後最嚴重衝突 -- : 以色列 停火協議 巴勒斯坦 衝突 ... 加薩走廊 以色列首公開巴人地道 指控哈瑪斯所為 -- : 以色列 巴勒斯坦 加薩走廊 伊斯蘭 ... 耶路撒冷 美國總統 編輯推薦 政治|-- 大選／民眾黨不分區立委名單出爐 黃珊珊、黃國昌排第、位 政治|-- 大選／賴清德宣布副手 蕭美琴 ：我回來 文教科技|-- 美國完成全球首例全眼移植手術 患者視網膜已血液流動 全球|-- 「為突然消失家人」 以色列戰火中寄予希望與力量【圖輯】【公視獨家】 內容 即時新聞 專題策展 數位敘事 當期節目 深度報導 觀點 分類 政治 社會 全球 生活 兩岸 地方 產經 文教科技 環境 社福人權 公廣集團 公共電視 PTS TW 公視台語台 中華電視公司 客家電視台 主題網站 我們島 獨立特派員 話好說 P#新聞實驗室 PNN新聞議題中心 關於我們 更正啟事 最新消息 服務條款 Copyright ©  Public Television Service Foundation. All Rights Reserved. 本網站使用Cookie分析技術提供更好閱讀體驗，同時尊重使用者隱私，點這裡瞭解公視網站服務條款。 我知道\n"
     ]
    },
    {
     "ename": "NameError",
     "evalue": "name 'cleaned_text_without_numbers' is not defined",
     "output_type": "error",
     "traceback": [
      "\u001b[1;31m---------------------------------------------------------------------------\u001b[0m",
      "\u001b[1;31mNameError\u001b[0m                                 Traceback (most recent call last)",
      "\u001b[1;32m~\\AppData\\Local\\Temp\\ipykernel_19916\\182644109.py\u001b[0m in \u001b[0;36m<module>\u001b[1;34m\u001b[0m\n\u001b[0;32m     64\u001b[0m \u001b[1;33m\u001b[0m\u001b[0m\n\u001b[0;32m     65\u001b[0m \u001b[1;31m# 要生成文字雲的文字\u001b[0m\u001b[1;33m\u001b[0m\u001b[1;33m\u001b[0m\u001b[0m\n\u001b[1;32m---> 66\u001b[1;33m \u001b[0mtext\u001b[0m \u001b[1;33m=\u001b[0m \u001b[0mcleaned_text_without_numbers\u001b[0m\u001b[1;33m\u001b[0m\u001b[1;33m\u001b[0m\u001b[0m\n\u001b[0m\u001b[0;32m     67\u001b[0m \u001b[1;33m\u001b[0m\u001b[0m\n\u001b[0;32m     68\u001b[0m \u001b[1;31m# 生成文字雲\u001b[0m\u001b[1;33m\u001b[0m\u001b[1;33m\u001b[0m\u001b[0m\n",
      "\u001b[1;31mNameError\u001b[0m: name 'cleaned_text_without_numbers' is not defined"
     ]
    }
   ],
   "source": [
    "import requests\n",
    "from bs4 import BeautifulSoup\n",
    "import re\n",
    "\n",
    "def remove_chinese_stopwords(text):\n",
    "    # 中文停用詞列表，可以根據需要擴充\n",
    "    stopwords = ['的', '了', '是', '在', '和', '有', '月', '日', '年']\n",
    "\n",
    "    # 將停用詞替換為空白\n",
    "    for stopword in stopwords:\n",
    "        text = text.replace(stopword, '')\n",
    "\n",
    "    return text\n",
    "\n",
    "def remove_numbers(text):\n",
    "    # 使用正規表達式刪除數字\n",
    "    text_without_numbers = re.sub(r'\\d+', '', text)\n",
    "    return text_without_numbers\n",
    "\n",
    "def crawl_url(url):\n",
    "    try:\n",
    "        # 發送 GET 請求\n",
    "        response = requests.get(url)\n",
    "\n",
    "        # 檢查響應狀態碼\n",
    "        if response.status_code == 200:\n",
    "            # 如果響應成功，獲取 HTML 內容\n",
    "            html_content = response.text\n",
    "\n",
    "            # 使用 BeautifulSoup 解析 HTML\n",
    "            soup = BeautifulSoup(html_content, 'html.parser')\n",
    "\n",
    "            # 提取純文本\n",
    "            text_content = soup.get_text()\n",
    "\n",
    "            # 使用正規表達式刪除多餘空格\n",
    "            cleaned_text = re.sub(r'\\s+', ' ', text_content).strip()\n",
    "\n",
    "            # 刪除中文語助詞\n",
    "            cleaned_text = remove_chinese_stopwords(cleaned_text)\n",
    "\n",
    "            # 刪除數字\n",
    "            cleaned_text_without_numbers = remove_numbers(cleaned_text)\n",
    "            \n",
    "            # 印出清理後的純文本\n",
    "            print(cleaned_text_without_numbers)\n",
    "        \n",
    "        else:\n",
    "            print(f\"Failed to retrieve the page. Status code: {response.status_code}\")\n",
    "\n",
    "    except requests.RequestException as e:\n",
    "        print(f\"Error during request: {e}\")\n",
    "\n",
    "if __name__ == \"__main__\":\n",
    "    # 要爬取的網址\n",
    "    target_url = \"https://news.pts.org.tw/article/663849\"\n",
    "\n",
    "    # 呼叫爬取函數\n",
    "    crawl_url(target_url)\n",
    "\n",
    "\n",
    "    from wordcloud import WordCloud\n",
    "import matplotlib.pyplot as plt\n",
    "\n",
    "# 要生成文字雲的文字\n",
    "text = cleaned_text_without_numbers\n",
    "\n",
    "# 生成文字雲\n",
    "wordcloud = WordCloud(width=800, height=400, background_color=\"white\").generate(text)\n",
    "\n",
    "# 顯示文字雲\n",
    "plt.figure(figsize=(10, 5))\n",
    "plt.imshow(wordcloud, interpolation=\"bilinear\")\n",
    "plt.axis(\"off\")\n",
    "plt.show()"
   ]
  },
  {
   "cell_type": "code",
   "execution_count": 26,
   "id": "78d8fd3b",
   "metadata": {},
   "outputs": [
    {
     "ename": "NameError",
     "evalue": "name 'cleaned_text_without_numbers' is not defined",
     "output_type": "error",
     "traceback": [
      "\u001b[1;31m---------------------------------------------------------------------------\u001b[0m",
      "\u001b[1;31mNameError\u001b[0m                                 Traceback (most recent call last)",
      "\u001b[1;32m~\\AppData\\Local\\Temp\\ipykernel_19916\\955663001.py\u001b[0m in \u001b[0;36m<module>\u001b[1;34m\u001b[0m\n\u001b[0;32m      3\u001b[0m \u001b[1;33m\u001b[0m\u001b[0m\n\u001b[0;32m      4\u001b[0m \u001b[1;31m# 要生成文字雲的文字\u001b[0m\u001b[1;33m\u001b[0m\u001b[1;33m\u001b[0m\u001b[0m\n\u001b[1;32m----> 5\u001b[1;33m \u001b[0mtext\u001b[0m \u001b[1;33m=\u001b[0m \u001b[0mcleaned_text_without_numbers\u001b[0m\u001b[1;33m\u001b[0m\u001b[1;33m\u001b[0m\u001b[0m\n\u001b[0m\u001b[0;32m      6\u001b[0m \u001b[1;33m\u001b[0m\u001b[0m\n\u001b[0;32m      7\u001b[0m \u001b[1;31m# 生成文字雲\u001b[0m\u001b[1;33m\u001b[0m\u001b[1;33m\u001b[0m\u001b[0m\n",
      "\u001b[1;31mNameError\u001b[0m: name 'cleaned_text_without_numbers' is not defined"
     ]
    }
   ],
   "source": [
    "from wordcloud import WordCloud\n",
    "import matplotlib.pyplot as plt\n",
    "\n",
    "# 要生成文字雲的文字\n",
    "text = cleaned_text_without_numbers\n",
    "\n",
    "# 生成文字雲\n",
    "wordcloud = WordCloud(width=800, height=400, background_color=\"white\").generate(text)\n",
    "\n",
    "# 顯示文字雲\n",
    "plt.figure(figsize=(10, 5))\n",
    "plt.imshow(wordcloud, interpolation=\"bilinear\")\n",
    "plt.axis(\"off\")\n",
    "plt.show()"
   ]
  },
  {
   "cell_type": "code",
   "execution_count": null,
   "id": "1dfee9d8",
   "metadata": {},
   "outputs": [],
   "source": []
  }
 ],
 "metadata": {
  "kernelspec": {
   "display_name": "Python 3 (ipykernel)",
   "language": "python",
   "name": "python3"
  },
  "language_info": {
   "codemirror_mode": {
    "name": "ipython",
    "version": 3
   },
   "file_extension": ".py",
   "mimetype": "text/x-python",
   "name": "python",
   "nbconvert_exporter": "python",
   "pygments_lexer": "ipython3",
   "version": "3.9.13"
  }
 },
 "nbformat": 4,
 "nbformat_minor": 5
}
