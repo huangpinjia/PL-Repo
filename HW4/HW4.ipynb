{
 "cells": [
  {
   "cell_type": "code",
   "execution_count": 30,
   "id": "6f9acdf5",
   "metadata": {},
   "outputs": [
    {
     "name": "stdout",
     "output_type": "stream",
     "text": [
      "Requirement already satisfied: jieba in c:\\users\\pinji\\documents\\anaconda3\\lib\\site-packages (0.42.1)\n",
      "Requirement already satisfied: Pillow in c:\\users\\pinji\\documents\\anaconda3\\lib\\site-packages (9.2.0)\n"
     ]
    }
   ],
   "source": [
    "!pip install jieba"
   ]
  },
  {
   "cell_type": "code",
   "execution_count": 36,
   "id": "9a84540d",
   "metadata": {},
   "outputs": [],
   "source": [
    "import requests\n",
    "from bs4 import BeautifulSoup\n",
    "import jieba\n",
    "from wordcloud import WordCloud\n",
    "import matplotlib.pyplot as plt"
   ]
  },
  {
   "cell_type": "code",
   "execution_count": 40,
   "id": "c241ba2a",
   "metadata": {},
   "outputs": [],
   "source": [
    "# 发送HTTP请求获取网页内容\n",
    "url = 'https://medlineplus.gov/ency/article/001214.htm'\n",
    "response = requests.get(url)\n",
    "html_content = response.text\n",
    "\n",
    "# 使用BeautifulSoup解析HTML内容\n",
    "soup = BeautifulSoup(html_content, 'html.parser')\n",
    "\n",
    "# 提取网页文本内容\n",
    "text_content = soup.get_text()"
   ]
  },
  {
   "cell_type": "code",
   "execution_count": 41,
   "id": "eb1eeb50",
   "metadata": {},
   "outputs": [],
   "source": [
    "# 使用jieba进行中文分词\n",
    "word_list = jieba.cut(text_content, cut_all=False)\n",
    "\n",
    "# 将分词结果拼接成字符串\n",
    "words = ' '.join(word_list)"
   ]
  },
  {
   "cell_type": "code",
   "execution_count": null,
   "id": "44d5c6cb",
   "metadata": {},
   "outputs": [],
   "source": [
    "# 生成词云\n",
    "wordcloud = WordCloud(width=800, height=400, background_color='white').generate(words)\n",
    "\n",
    "# 显示词云图\n",
    "plt.figure(figsize=(10, 5))\n",
    "plt.imshow(wordcloud, interpolation='bilinear')\n",
    "plt.axis('off')\n",
    "plt.savefig('diabetes.png', bbox_inches='tight')\n",
    "plt.show()"
   ]
  }
 ],
 "metadata": {
  "kernelspec": {
   "display_name": "Python 3 (ipykernel)",
   "language": "python",
   "name": "python3"
  },
  "language_info": {
   "codemirror_mode": {
    "name": "ipython",
    "version": 3
   },
   "file_extension": ".py",
   "mimetype": "text/x-python",
   "name": "python",
   "nbconvert_exporter": "python",
   "pygments_lexer": "ipython3",
   "version": "3.9.13"
  }
 },
 "nbformat": 4,
 "nbformat_minor": 5
}
