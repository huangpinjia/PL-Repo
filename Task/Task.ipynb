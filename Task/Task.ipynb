{
 "cells": [
  {
   "cell_type": "code",
   "execution_count": 1,
   "id": "e636e80a",
   "metadata": {},
   "outputs": [
    {
     "name": "stdout",
     "output_type": "stream",
     "text": [
      "{'Ethan', 'Olivia', 'Emma', 'Harper', 'Daniel', 'Ava', 'Alice', 'Michael', 'Charlie', 'Benjamin', 'David', 'John', 'Mia', 'William', 'Samuel', 'James', 'Henry', 'Grace', 'Alexander', 'Amelia', 'Charlotte', 'Sophia', 'Eve', 'Bob', 'Abigail'}\n"
     ]
    }
   ],
   "source": [
    "import pandas as pd\n",
    "\n",
    "df1 = pd.read_csv('name1.csv',encoding='utf-8')\n",
    "df2 = pd.read_csv('name2.csv',encoding='utf-8')\n",
    "\n",
    "# 將學生名稱轉換為 set 資料型態\n",
    "#student_name1_set = set(df1)\n",
    "#student_name2_set = set(df2)\n",
    "\n",
    "student_name1 = df1['名稱']\n",
    "student_name2 = df2['名稱']\n",
    "\n",
    "\n",
    "# 將學生名稱轉換為 set 資料型態\n",
    "student_name1_set = set(student_name1)\n",
    "student_name2_set = set(student_name2)\n",
    "\n",
    "#同時選了PECU的程式語言和網際網路概論的學生是哪幾位\n",
    "print(student_name1_set & student_name2_set)"
   ]
  },
  {
   "cell_type": "code",
   "execution_count": null,
   "id": "20ca86e9",
   "metadata": {},
   "outputs": [],
   "source": []
  }
 ],
 "metadata": {
  "kernelspec": {
   "display_name": "Python 3 (ipykernel)",
   "language": "python",
   "name": "python3"
  },
  "language_info": {
   "codemirror_mode": {
    "name": "ipython",
    "version": 3
   },
   "file_extension": ".py",
   "mimetype": "text/x-python",
   "name": "python",
   "nbconvert_exporter": "python",
   "pygments_lexer": "ipython3",
   "version": "3.9.13"
  }
 },
 "nbformat": 4,
 "nbformat_minor": 5
}
